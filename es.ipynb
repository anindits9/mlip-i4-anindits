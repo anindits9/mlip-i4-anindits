{
 "cells": [
  {
   "cell_type": "code",
   "execution_count": null,
   "metadata": {},
   "outputs": [],
   "source": [
    "from elasticsearch import Elasticsearch\n",
    "\n",
    "#es = Elasticsearch(\"http://localhost:9200\")\n",
    "es = Elasticsearch(\n",
    "    \"http://localhost:9200\",\n",
    "    http_auth=(\"elastic\", \"pass12345\")\n",
    ")\n",
    "es.info()"
   ]
  },
  {
   "cell_type": "code",
   "execution_count": 16,
   "metadata": {},
   "outputs": [],
   "source": [
    "from os import path\n",
    "import sys, os\n",
    "from datetime import datetime\n",
    "from json import dumps, loads\n",
    "from time import sleep\n",
    "from random import randint\n",
    "import numpy as np\n",
    "# ssh -o ServerAliveInterval=60 -L 9092:localhost:9092 tunnel@128.2.204.215 -NTf\n",
    "from kafka import KafkaConsumer, KafkaProducer\n",
    "\n",
    "# Update this for your demo otherwise you'll see my data :)\n",
    "#topic = 'test_anindita'\n",
    "topic = 'movielog9'\n",
    "consumer1 = KafkaConsumer(\n",
    "    topic,\n",
    "    bootstrap_servers=['localhost:9092'],\n",
    "    auto_offset_reset='latest',\n",
    "    enable_auto_commit = True,\n",
    "    value_deserializer = lambda m : m.decode('utf-8')\n",
    ")\n",
    "consumer2 = consumer1 = KafkaConsumer(\n",
    "    topic,\n",
    "    bootstrap_servers=['localhost:9092'],\n",
    "    auto_offset_reset='earliest',\n",
    "    enable_auto_commit = True,\n",
    ")"
   ]
  },
  {
   "cell_type": "code",
   "execution_count": 17,
   "metadata": {},
   "outputs": [
    {
     "name": "stdout",
     "output_type": "stream",
     "text": [
      "2022-10-13T23:51:13,558362,GET /data/m/the+incredibles+2004/109.mpg\n",
      "2022-10-13T23:51:16,524674,GET /data/m/st.+vincent+2014/75.mpg\n",
      "2022-10-13T23:51:18,224120,GET /data/m/trouble+the+water+2008/88.mpg\n",
      "2022-10-13T23:51:21,212379,GET /data/m/ghost+1990/83.mpg\n",
      "2022-10-13T23:51:24,96185,GET /data/m/my+sisters+keeper+2009/110.mpg\n",
      "2022-10-13T23:51:26,83060,GET /data/m/the+strange+love+of+martha+ivers+1946/20.mpg\n"
     ]
    },
    {
     "ename": "KeyboardInterrupt",
     "evalue": "",
     "output_type": "error",
     "traceback": [
      "\u001b[1;31m---------------------------------------------------------------------------\u001b[0m",
      "\u001b[1;31mKeyboardInterrupt\u001b[0m                         Traceback (most recent call last)",
      "Cell \u001b[1;32mIn [17], line 9\u001b[0m\n\u001b[0;32m      7\u001b[0m \u001b[39mif\u001b[39;00m count \u001b[39m%\u001b[39m \u001b[39m1000\u001b[39m \u001b[39m==\u001b[39m \u001b[39m0\u001b[39m:\n\u001b[0;32m      8\u001b[0m     \u001b[39mprint\u001b[39m(message)\n\u001b[1;32m----> 9\u001b[0m os\u001b[39m.\u001b[39msystem(\u001b[39mf\u001b[39m\u001b[39m\"\u001b[39m\u001b[39mecho \u001b[39m\u001b[39m{\u001b[39;00mmessage\u001b[39m}\u001b[39;00m\u001b[39m >> ratings_log_20221109.csv\u001b[39m\u001b[39m\"\u001b[39m)\n",
      "\u001b[1;31mKeyboardInterrupt\u001b[0m: "
     ]
    }
   ],
   "source": [
    "count = 0\n",
    "for message in consumer2:\n",
    "    message = message.value.decode('utf-8')\n",
    "    val = message.split(\",\")[2]\n",
    "    if val.startswith(\"GET\"):\n",
    "        count += 1\n",
    "        if count % 1000 == 0:\n",
    "            print(message)\n",
    "        os.system(f\"echo {message} >> ratings_log_20221109.csv\")"
   ]
  },
  {
   "cell_type": "code",
   "execution_count": 18,
   "metadata": {},
   "outputs": [],
   "source": [
    "import pandas as pd"
   ]
  },
  {
   "cell_type": "code",
   "execution_count": 19,
   "metadata": {},
   "outputs": [],
   "source": [
    "df = pd.read_csv('ratings_log_20221109.csv', header = None, names = ['date', 'user', 'request'], parse_dates = ['date'])"
   ]
  },
  {
   "cell_type": "code",
   "execution_count": 20,
   "metadata": {},
   "outputs": [
    {
     "name": "stderr",
     "output_type": "stream",
     "text": [
      "C:\\Users\\Anindita Sahu\\AppData\\Local\\Temp\\ipykernel_14752\\3173177892.py:4: SettingWithCopyWarning: \n",
      "A value is trying to be set on a copy of a slice from a DataFrame\n",
      "\n",
      "See the caveats in the documentation: https://pandas.pydata.org/pandas-docs/stable/user_guide/indexing.html#returning-a-view-versus-a-copy\n",
      "  df_updated.drop_duplicates(inplace=True)\n"
     ]
    }
   ],
   "source": [
    "\n",
    "df['movie_id'] = df['request'].str[12 : -8]\n",
    "df_updated = df[['date','user','movie_id']]\n",
    "df_updated.head()\n",
    "df_updated.drop_duplicates(inplace=True)"
   ]
  },
  {
   "cell_type": "code",
   "execution_count": 10,
   "metadata": {},
   "outputs": [
    {
     "data": {
      "text/plain": [
       "{'acknowledged': True,\n",
       " 'shards_acknowledged': True,\n",
       " 'index': 'movies_watchpattern'}"
      ]
     },
     "execution_count": 10,
     "metadata": {},
     "output_type": "execute_result"
    }
   ],
   "source": [
    "mappings = {\n",
    "        \"properties\": {\n",
    "            \"date\": {\"type\": \"text\", \"analyzer\": \"standard\"},\n",
    "            \"user\": {\"type\": \"text\", \"analyzer\": \"standard\"},\n",
    "            \"movie_id\": {\"type\": \"text\", \"analyzer\": \"standard\"}\n",
    "    }\n",
    "}\n",
    "es.indices.create(index=\"movies_watchpattern\")"
   ]
  },
  {
   "cell_type": "code",
   "execution_count": null,
   "metadata": {},
   "outputs": [],
   "source": [
    "mappings = {\n",
    "        \"properties\": {\n",
    "            \"date\": {\"type\": \"text\", \"analyzer\": \"standard\"},\n",
    "            \"user\": {\"type\": \"text\", \"analyzer\": \"standard\"},\n",
    "            \"movie_recommended\": {\"type\": \"text\", \"analyzer\": \"standard\"}\n",
    "    }\n",
    "}"
   ]
  },
  {
   "cell_type": "code",
   "execution_count": null,
   "metadata": {},
   "outputs": [],
   "source": [
    "i = 100\n",
    "for i,row in df_updated.iterrows():\n",
    "    print(i+100)"
   ]
  },
  {
   "cell_type": "code",
   "execution_count": 25,
   "metadata": {},
   "outputs": [],
   "source": [
    "\n",
    "for i,row in df_updated.iterrows():\n",
    "    doc = {\n",
    "        \"date\": row[\"date\"],\n",
    "        \"user\": row[\"user\"],\n",
    "        \"movie_id\": row[\"movie_id\"]\n",
    "    }\n",
    "    i= i+1\n",
    "            \n",
    "    es.index(index=\"movies_watchpattern\", id=i+100, body=doc)"
   ]
  },
  {
   "cell_type": "code",
   "execution_count": 26,
   "metadata": {},
   "outputs": [
    {
     "data": {
      "text/plain": [
       "[{'epoch': '1668028751', 'timestamp': '21:19:11', 'count': '6406'}]"
      ]
     },
     "execution_count": 26,
     "metadata": {},
     "output_type": "execute_result"
    }
   ],
   "source": [
    "es.indices.refresh(index=\"movies_watchpattern\")\n",
    "es.cat.count(index=\"movies_watchpattern\", format=\"json\")"
   ]
  },
  {
   "cell_type": "code",
   "execution_count": 55,
   "metadata": {},
   "outputs": [
    {
     "data": {
      "text/plain": [
       "{'took': 0,\n",
       " 'timed_out': False,\n",
       " '_shards': {'total': 1, 'successful': 1, 'skipped': 0, 'failed': 0},\n",
       " 'hits': {'total': {'value': 0, 'relation': 'eq'},\n",
       "  'max_score': None,\n",
       "  'hits': []}}"
      ]
     },
     "execution_count": 55,
     "metadata": {},
     "output_type": "execute_result"
    }
   ],
   "source": [
    "resp = es.search(\n",
    "    index=\"movies_watchpattern\",\n",
    "    body={\n",
    "        \"query\": {\n",
    "            \"bool\": {\n",
    "                \"must\": {\n",
    "                    \"match_phrase\": {\n",
    "                        \"user\": \"51569\",\n",
    "                    }\n",
    "                }\n",
    "            },\n",
    "        },            \n",
    "    }\n",
    ")\n",
    "resp"
   ]
  },
  {
   "cell_type": "code",
   "execution_count": null,
   "metadata": {},
   "outputs": [],
   "source": [
    "df = pd.read_csv(\"ratings_log_20221107.csv\", names=['date', 'user', 'request'])\n",
    "#df.head()\n",
    "for user in df[\"user\"]:\n",
    "    print(type(user))"
   ]
  },
  {
   "cell_type": "code",
   "execution_count": 56,
   "metadata": {},
   "outputs": [],
   "source": [
    "import requests\n",
    "from datetime import datetime as dt\n",
    "\n",
    "j=0\n",
    "for user in df[\"user\"]:\n",
    "    # api-endpoint\n",
    "    URL = \"http://17645-team09.isri.cmu.edu:8082/recommend/\"\n",
    "    \n",
    "    # location given here\n",
    "    # user = str(user)\n",
    "    \n",
    "    # defining a params dict for the parameters to be sent to the API\n",
    "    #PARAMS = {user}\n",
    "\n",
    "    URL=URL+str(user)\n",
    "    \n",
    "    # sending get request and saving the response as response object\n",
    "    r = requests.get(url = URL)\n",
    "    \n",
    "    # extracting data in json format\n",
    "    data = r.text.split(\",\")\n",
    "    x = dt.now().isoformat()\n",
    "    for i in range(len(data)):\n",
    "        doc = {\n",
    "            \"date\": x,\n",
    "            \"user\": user,\n",
    "            \"movie_recommended\": data[i] \n",
    "        }\n",
    "        es.index(index=\"movies_recommended\", id=i+j, body=doc)\n",
    "    j= j+ 20"
   ]
  },
  {
   "cell_type": "code",
   "execution_count": null,
   "metadata": {},
   "outputs": [],
   "source": [
    "es.indices.refresh(index=\"movies_recommended\")\n",
    "es.cat.count(index=\"movies_recommended\", format=\"json\")"
   ]
  }
 ],
 "metadata": {
  "kernelspec": {
   "display_name": "Python 3.11.0 ('.venv': venv)",
   "language": "python",
   "name": "python3"
  },
  "language_info": {
   "codemirror_mode": {
    "name": "ipython",
    "version": 3
   },
   "file_extension": ".py",
   "mimetype": "text/x-python",
   "name": "python",
   "nbconvert_exporter": "python",
   "pygments_lexer": "ipython3",
   "version": "3.11.0"
  },
  "orig_nbformat": 4,
  "vscode": {
   "interpreter": {
    "hash": "965b57a438295dd13ff3c640ac8d55aec9bcc4247c2c51dc88e0c94f4574f0cb"
   }
  }
 },
 "nbformat": 4,
 "nbformat_minor": 2
}
